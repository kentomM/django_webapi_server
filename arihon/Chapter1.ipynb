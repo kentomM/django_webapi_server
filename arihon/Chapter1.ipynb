{
  "nbformat": 4,
  "nbformat_minor": 0,
  "metadata": {
    "colab": {
      "provenance": [],
      "collapsed_sections": [
        "i2gIw9wORNxr"
      ],
      "toc_visible": true,
      "authorship_tag": "ABX9TyOYgslr8UiMT6JChzB+rTqg",
      "include_colab_link": true
    },
    "kernelspec": {
      "name": "python3",
      "display_name": "Python 3"
    },
    "language_info": {
      "name": "python"
    }
  },
  "cells": [
    {
      "cell_type": "markdown",
      "metadata": {
        "id": "view-in-github",
        "colab_type": "text"
      },
      "source": [
        "<a href=\"https://colab.research.google.com/github/kentomM/django_webapi_server/blob/master/arihon/Chapter1.ipynb\" target=\"_parent\"><img src=\"https://colab.research.google.com/assets/colab-badge.svg\" alt=\"Open In Colab\"/></a>"
      ]
    },
    {
      "cell_type": "markdown",
      "source": [
        "# 1-1 くじびき\n",
        "# 問題\n",
        "数字が書かれたn枚の紙きれが袋に入っている。袋から紙切れを取り出し、数字を見て袋に戻すことを4回行い、4回の紙切れの和がmになっていればこちらの勝ち、そうでなければ友人の勝ち。こちらが勝つ可能性はあるでしょうか？\n",
        "紙切れに書かれている数字をｋiとした時、和がmになる取り出し方が存在するか計算し、存在すればYes、存在しなければNoと出力してください。\n",
        "# 制約\n",
        "- 1 <= n <= 50\n",
        "- 1 <= m <= 10^8\n",
        "- 1 <= ｋi <= 10^8\n"
      ],
      "metadata": {
        "id": "i2gIw9wORNxr"
      }
    },
    {
      "cell_type": "code",
      "execution_count": 13,
      "metadata": {
        "id": "yVyq31OFKVf1",
        "colab": {
          "base_uri": "https://localhost:8080/"
        },
        "outputId": "994649ba-775f-4486-e890-15caa29c6dd6"
      },
      "outputs": [
        {
          "output_type": "stream",
          "name": "stdout",
          "text": [
            "No\n"
          ]
        }
      ],
      "source": [
        "# 総当たりで計算\n",
        "import random\n",
        "\n",
        "# 紙切れの枚数\n",
        "n = random.randint(1, 50)\n",
        "# 和\n",
        "m = random.randint(1, 1000000000)\n",
        "# 紙切れの入った袋\n",
        "backet = [random.randint(1, 1000000000) for _ in range(n)]\n",
        "\n",
        "isExistAnswer = False\n",
        "\n",
        "for a in range(n):\n",
        "  for b in range(n):\n",
        "    for c in range(n):\n",
        "      for d in range(n):\n",
        "        if (backet[a] + backet[b] + backet[c] + backet[d]) == m:\n",
        "          isExistAnswer = True\n",
        "\n",
        "print(\"Yes\" if isExistAnswer else \"No\")\n",
        "\n"
      ]
    },
    {
      "cell_type": "markdown",
      "source": [
        "# 1-6 三角形\n",
        "# 問題\n",
        "n本の棒がある。棒iの長さはａiとする。\n",
        "あなたはそれらの棒から3本選んでできるだけ周長の長い三角形を作ろうとしている。最大の周長はいくつか？\n",
        "ただし、三角形が作れない時には0を表示すること\n",
        "\n",
        "# 制約\n",
        "- 3 <= n <= 100\n",
        "- 1 <= ａi <= 10^6"
      ],
      "metadata": {
        "id": "3E0zG7FZVXrR"
      }
    },
    {
      "cell_type": "code",
      "source": [
        "# 総当たり\n",
        "import random\n",
        "\n",
        "# 棒の数\n",
        "n = random.randint(3, 100)\n",
        "# 全ての棒\n",
        "sticks = [random.randint(1, 10000000) for _ in range(n)]\n",
        "sticks.sort()\n",
        "sticks.reverse()\n",
        "\n",
        "max_len = 0\n",
        "\n",
        "def isTriangle(a, b, c):\n",
        "  return (\n",
        "          a < (b + c) and\n",
        "          b < (a + c) and\n",
        "          c < (a + b)\n",
        "        )\n",
        "\n",
        "for a in range(n):\n",
        "  for b in range(a+1, n):\n",
        "    for c in range(b+1, n):\n",
        "      if (\n",
        "          isTriangle(sticks[a],sticks[b], sticks[c]) and\n",
        "          max_len < sticks[a] + sticks[b] + sticks[c]\n",
        "      ):\n",
        "        print(sticks[a],sticks[b], sticks[c])\n",
        "        max_len = sticks[a] + sticks[b] + sticks[c]\n",
        "\n",
        "print(max_len)"
      ],
      "metadata": {
        "colab": {
          "base_uri": "https://localhost:8080/"
        },
        "id": "yQBGM4FwWY3N",
        "outputId": "5c8cda4c-6cb6-4e71-8670-70fc053132d3"
      },
      "execution_count": 35,
      "outputs": [
        {
          "output_type": "stream",
          "name": "stdout",
          "text": [
            "9815228 9765322 9657510\n",
            "29238060\n"
          ]
        }
      ]
    },
    {
      "cell_type": "markdown",
      "source": [
        "# 1-6 Ants (POJ No.1852)\n",
        "# 問題\n",
        "長さLcmの竿の上をn引きの蟻が毎秒1cmのスピードで歩いている。蟻が端に到達すると竿の下に落ちていく。\n",
        "また、二匹の蟻がでアウトそれぞれ反対を向いて戻っていく。各アリについて、現在の竿の左端からの距離ｘiはわかるが、どちらの方向を向いているかはわからない\n",
        "全ての蟻が竿から落ちるまでにかかる最初の時間と最大の時間を求めよ\n",
        "\n",
        "# 制約\n",
        "- 1 <= L <= 10^6\n",
        "- 1 <= n <= 10^6\n",
        "- 0 <= ｘi <= L"
      ],
      "metadata": {
        "id": "s6P3JGOKb7VB"
      }
    },
    {
      "cell_type": "code",
      "source": [],
      "metadata": {
        "id": "hlytMrcHcvgT"
      },
      "execution_count": null,
      "outputs": []
    }
  ]
}